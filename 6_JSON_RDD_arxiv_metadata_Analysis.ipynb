{
 "cells": [
  {
   "cell_type": "markdown",
   "metadata": {
    "id": "9nrTNalW81Uo"
   },
   "source": [
    "# **Arxiv metadata Analytics with PySpark RDD: JSON case study**\n",
    "\n",
    "### Udemy Course: Best Hands-on Big Data Practices and Use Cases using PySpark\n",
    "\n",
    "### Author: Amin Karami (PhD, FHEA)\n",
    "#### email: amin.karami@ymail.com"
   ]
  },
  {
   "cell_type": "code",
   "execution_count": null,
   "metadata": {
    "id": "ghTJybh281Ur"
   },
   "outputs": [],
   "source": [
    "########## ONLY in Colab ##########\n",
    "!pip3 install pyspark\n",
    "########## ONLY in Colab ##########"
   ]
  },
  {
   "cell_type": "code",
   "execution_count": 1,
   "metadata": {
    "id": "Lv29DcwT81Ut"
   },
   "outputs": [],
   "source": [
    "########## ONLY in Ubuntu Machine ##########\n",
    "# Load Spark engine\n",
    "#!pip3 install -q findspark\n",
    "import findspark\n",
    "findspark.init()\n",
    "########## ONLY in Ubuntu Machine ##########"
   ]
  },
  {
   "cell_type": "code",
   "execution_count": 2,
   "metadata": {
    "id": "06d5GLeN81Ut"
   },
   "outputs": [
    {
     "name": "stdout",
     "output_type": "stream",
     "text": [
      "<SparkContext master=local[*] appName=Archive_PySpark>\n"
     ]
    }
   ],
   "source": [
    "# Initializing Spark\n",
    "from pyspark import SparkContext, SparkConf\n",
    "conf1 = SparkConf().setAppName(\"Archive_PySpark\").setMaster(\"local[*]\")\n",
    "sc = SparkContext(conf = conf1)\n",
    "print(sc)"
   ]
  },
  {
   "cell_type": "code",
   "execution_count": 3,
   "metadata": {
    "id": "UGorHKN581Uu"
   },
   "outputs": [
    {
     "data": {
      "text/plain": [
       "PythonRDD[2] at RDD at PythonRDD.scala:53"
      ]
     },
     "execution_count": 3,
     "metadata": {},
     "output_type": "execute_result"
    }
   ],
   "source": [
    "# Read and Load Data to Spark\n",
    "# Data source: https://www.kaggle.com/Cornell-University/arxiv/version/62\n",
    "import json\n",
    "#we want to read data by attribute, not line by line. And divide it to 100 partitions.\n",
    "rdd_json = sc.textFile(\"json_data/arxiv-metadata-oai-snapshot.json\", 100)\n",
    "#with below line, we say spark read it as a json file, don't read iy line by line\n",
    "rdd = rdd_json.map(lambda x: json.loads(x))\n",
    "rdd.persist()"
   ]
  },
  {
   "cell_type": "code",
   "execution_count": 4,
   "metadata": {
    "id": "6O_dV30S81Uu"
   },
   "outputs": [
    {
     "name": "stdout",
     "output_type": "stream",
     "text": [
      "8\n",
      "100\n"
     ]
    }
   ],
   "source": [
    "# Check the number of parallelism and partitions:\n",
    "print(sc.defaultParallelism)\n",
    "print(rdd.getNumPartitions())"
   ]
  },
  {
   "cell_type": "markdown",
   "metadata": {
    "id": "uBgW8XMl81Uv"
   },
   "source": [
    "## Question 1: Count elements"
   ]
  },
  {
   "cell_type": "code",
   "execution_count": 5,
   "metadata": {
    "id": "NzJeaegJ81Uw",
    "scrolled": false
   },
   "outputs": [
    {
     "data": {
      "text/plain": [
       "2011231"
      ]
     },
     "execution_count": 5,
     "metadata": {},
     "output_type": "execute_result"
    }
   ],
   "source": [
    "rdd.count()\n",
    "#go check from http://localhost:4040/"
   ]
  },
  {
   "cell_type": "markdown",
   "metadata": {
    "id": "zl7nmy6S81Uw"
   },
   "source": [
    "## Question 2: Get the first two records\n"
   ]
  },
  {
   "cell_type": "code",
   "execution_count": 6,
   "metadata": {
    "id": "HG1ypizS81Ux"
   },
   "outputs": [
    {
     "data": {
      "text/plain": [
       "[{'id': '0704.0001',\n",
       "  'submitter': 'Pavel Nadolsky',\n",
       "  'authors': \"C. Bal\\\\'azs, E. L. Berger, P. M. Nadolsky, C.-P. Yuan\",\n",
       "  'title': 'Calculation of prompt diphoton production cross sections at Tevatron and\\n  LHC energies',\n",
       "  'comments': '37 pages, 15 figures; published version',\n",
       "  'journal-ref': 'Phys.Rev.D76:013009,2007',\n",
       "  'doi': '10.1103/PhysRevD.76.013009',\n",
       "  'report-no': 'ANL-HEP-PR-07-12',\n",
       "  'categories': 'hep-ph',\n",
       "  'license': None,\n",
       "  'abstract': '  A fully differential calculation in perturbative quantum chromodynamics is\\npresented for the production of massive photon pairs at hadron colliders. All\\nnext-to-leading order perturbative contributions from quark-antiquark,\\ngluon-(anti)quark, and gluon-gluon subprocesses are included, as well as\\nall-orders resummation of initial-state gluon radiation valid at\\nnext-to-next-to-leading logarithmic accuracy. The region of phase space is\\nspecified in which the calculation is most reliable. Good agreement is\\ndemonstrated with data from the Fermilab Tevatron, and predictions are made for\\nmore detailed tests with CDF and DO data. Predictions are shown for\\ndistributions of diphoton pairs produced at the energy of the Large Hadron\\nCollider (LHC). Distributions of the diphoton pairs from the decay of a Higgs\\nboson are contrasted with those produced from QCD processes at the LHC, showing\\nthat enhanced sensitivity to the signal can be obtained with judicious\\nselection of events.\\n',\n",
       "  'versions': [{'version': 'v1', 'created': 'Mon, 2 Apr 2007 19:18:42 GMT'},\n",
       "   {'version': 'v2', 'created': 'Tue, 24 Jul 2007 20:10:27 GMT'}],\n",
       "  'update_date': '2008-11-26',\n",
       "  'authors_parsed': [['Balázs', 'C.', ''],\n",
       "   ['Berger', 'E. L.', ''],\n",
       "   ['Nadolsky', 'P. M.', ''],\n",
       "   ['Yuan', 'C. -P.', '']]},\n",
       " {'id': '0704.0002',\n",
       "  'submitter': 'Louis Theran',\n",
       "  'authors': 'Ileana Streinu and Louis Theran',\n",
       "  'title': 'Sparsity-certifying Graph Decompositions',\n",
       "  'comments': 'To appear in Graphs and Combinatorics',\n",
       "  'journal-ref': None,\n",
       "  'doi': None,\n",
       "  'report-no': None,\n",
       "  'categories': 'math.CO cs.CG',\n",
       "  'license': 'http://arxiv.org/licenses/nonexclusive-distrib/1.0/',\n",
       "  'abstract': '  We describe a new algorithm, the $(k,\\\\ell)$-pebble game with colors, and use\\nit obtain a characterization of the family of $(k,\\\\ell)$-sparse graphs and\\nalgorithmic solutions to a family of problems concerning tree decompositions of\\ngraphs. Special instances of sparse graphs appear in rigidity theory and have\\nreceived increased attention in recent years. In particular, our colored\\npebbles generalize and strengthen the previous results of Lee and Streinu and\\ngive a new proof of the Tutte-Nash-Williams characterization of arboricity. We\\nalso present a new decomposition that certifies sparsity based on the\\n$(k,\\\\ell)$-pebble game with colors. Our work also exposes connections between\\npebble game algorithms and previous sparse graph algorithms by Gabow, Gabow and\\nWestermann and Hendrickson.\\n',\n",
       "  'versions': [{'version': 'v1', 'created': 'Sat, 31 Mar 2007 02:26:18 GMT'},\n",
       "   {'version': 'v2', 'created': 'Sat, 13 Dec 2008 17:26:00 GMT'}],\n",
       "  'update_date': '2008-12-13',\n",
       "  'authors_parsed': [['Streinu', 'Ileana', ''], ['Theran', 'Louis', '']]}]"
      ]
     },
     "execution_count": 6,
     "metadata": {},
     "output_type": "execute_result"
    }
   ],
   "source": [
    "rdd.take(2)"
   ]
  },
  {
   "cell_type": "markdown",
   "metadata": {
    "id": "GgSYUgiQ81Ux"
   },
   "source": [
    "## Question 3: Get all attributes\n"
   ]
  },
  {
   "cell_type": "code",
   "execution_count": 14,
   "metadata": {
    "id": "4_hnOy9V81Uy"
   },
   "outputs": [
    {
     "data": {
      "text/plain": [
       "['authors',\n",
       " 'comments',\n",
       " 'title',\n",
       " 'id',\n",
       " 'journal-ref',\n",
       " 'versions',\n",
       " 'submitter',\n",
       " 'categories',\n",
       " 'update_date',\n",
       " 'authors_parsed',\n",
       " 'report-no',\n",
       " 'license',\n",
       " 'abstract',\n",
       " 'doi']"
      ]
     },
     "execution_count": 14,
     "metadata": {},
     "output_type": "execute_result"
    }
   ],
   "source": [
    "rdd.flatMap(lambda x : x.keys()).distinct().collect()"
   ]
  },
  {
   "cell_type": "markdown",
   "metadata": {
    "id": "iGaQWri681Uy"
   },
   "source": [
    "## Question 4: Get the name of the licenses"
   ]
  },
  {
   "cell_type": "code",
   "execution_count": 15,
   "metadata": {
    "id": "JjUWgHMs81Uy"
   },
   "outputs": [
    {
     "data": {
      "text/plain": [
       "[None,\n",
       " 'http://creativecommons.org/licenses/publicdomain/',\n",
       " 'http://creativecommons.org/licenses/by-nc-nd/4.0/',\n",
       " 'http://creativecommons.org/licenses/by-nc-sa/4.0/',\n",
       " 'http://creativecommons.org/licenses/by-nc-sa/3.0/',\n",
       " 'http://creativecommons.org/licenses/by/3.0/',\n",
       " 'http://creativecommons.org/licenses/by/4.0/',\n",
       " 'http://creativecommons.org/publicdomain/zero/1.0/',\n",
       " 'http://arxiv.org/licenses/nonexclusive-distrib/1.0/',\n",
       " 'http://creativecommons.org/licenses/by-sa/4.0/']"
      ]
     },
     "execution_count": 15,
     "metadata": {},
     "output_type": "execute_result"
    }
   ],
   "source": [
    "rdd.map(lambda x : x[\"license\"]).distinct().collect()"
   ]
  },
  {
   "cell_type": "markdown",
   "metadata": {
    "id": "_giGZDm981Uz"
   },
   "source": [
    "## Question 5: Get the shortest and the longest titles"
   ]
  },
  {
   "cell_type": "code",
   "execution_count": 17,
   "metadata": {
    "id": "0ujiDBLl81Uz"
   },
   "outputs": [
    {
     "name": "stdout",
     "output_type": "stream",
     "text": [
      "The shorttest: !-Graphs with Trivial Overlap are Context-Free\n",
      "The longest: Weyl formula for the negative dissipative eigenvalues of Maxwell's\n",
      "  equations\n"
     ]
    }
   ],
   "source": [
    "shortest_rdd_map = rdd.map(lambda x: x[\"title\"]).reduce(lambda x, y : x if x<y else y )\n",
    "longest_rdd_map = rdd.map(lambda x: x[\"title\"]).reduce(lambda x, y : x if x>y else y )\n",
    "print(\"The shorttest:\",shortest_rdd_map)\n",
    "print(\"The longest:\",longest_rdd_map)"
   ]
  },
  {
   "cell_type": "markdown",
   "metadata": {
    "id": "c9iSZAe281Uz"
   },
   "source": [
    "## Question 6: Find abbreviations with 5 or more letters in the abstract"
   ]
  },
  {
   "cell_type": "code",
   "execution_count": 19,
   "metadata": {
    "id": "Z1Weltn281U0"
   },
   "outputs": [
    {
     "data": {
      "text/plain": [
       "192721"
      ]
     },
     "execution_count": 19,
     "metadata": {},
     "output_type": "execute_result"
    }
   ],
   "source": [
    "import re\n",
    "def get_abbreviations(line):\n",
    "    return re.search(r\"\\(([A-Za-z][^_ /\\\\<>]{5,})\\)\",line)\n",
    "    if result:\n",
    "        return result.group(1)\n",
    "rdd.filter(lambda x : get_abbreviations(x[\"abstract\"])).count()"
   ]
  },
  {
   "cell_type": "markdown",
   "metadata": {
    "id": "CnPa1NYL81U0"
   },
   "source": [
    "## Question 7: Get the number of archive records per month ('update_date' attribute)"
   ]
  },
  {
   "cell_type": "code",
   "execution_count": 21,
   "metadata": {
    "id": "0Wsgod6K81U1"
   },
   "outputs": [
    {
     "data": {
      "text/plain": [
       "[(2, 116948),\n",
       " (4, 117126),\n",
       " (7, 122649),\n",
       " (3, 126458),\n",
       " (12, 132305),\n",
       " (1, 134247),\n",
       " (8, 138469),\n",
       " (9, 138978),\n",
       " (6, 191746),\n",
       " (10, 197755),\n",
       " (5, 296587),\n",
       " (11, 297963)]"
      ]
     },
     "execution_count": 21,
     "metadata": {},
     "output_type": "execute_result"
    }
   ],
   "source": [
    "import datetime\n",
    "def extract_date(DateIn):\n",
    "    d = datetime.datetime.strptime(DateIn,\"%Y-%m-%d\")\n",
    "    return d.month\n",
    "rdd.map(lambda x : (extract_date(x[\"update_date\"]), 1)).reduceByKey(lambda x,y : x+y).sortBy(lambda l: l[1]).collect()"
   ]
  },
  {
   "cell_type": "markdown",
   "metadata": {
    "id": "hQu2A93481U1"
   },
   "source": [
    "## Question 8: Get the average number of pages"
   ]
  },
  {
   "cell_type": "code",
   "execution_count": null,
   "metadata": {
    "id": "Wa1y3OKW81U1"
   },
   "outputs": [],
   "source": [
    "def get_Page(line):\n",
    "    search = re.findall('\\d+ pages' , line)\n",
    "    if search:\n",
    "        return int(search[0].split(\" \")[0])\n",
    "    else:\n",
    "        return 0\n",
    "rdd_average = rdd.map(lambda x: get_Page(x[\"comments\"] if x[\"comments\"] != None else \"None\"))\n",
    "#remove 0\n",
    "rdd_average = rdd_average.filter(lambda x : x != 0)\n",
    "average_counter = rdd_average.count()\n",
    "average_summation = rdd_average.reduce(lambda x,y : x+y)\n",
    "print(average_counter)\n",
    "print(average_summation)\n",
    "print(\"average of pages is \",(average_summation/average_counter))"
   ]
  },
  {
   "cell_type": "code",
   "execution_count": null,
   "metadata": {},
   "outputs": [],
   "source": []
  },
  {
   "cell_type": "code",
   "execution_count": null,
   "metadata": {},
   "outputs": [],
   "source": []
  }
 ],
 "metadata": {
  "colab": {
   "collapsed_sections": [],
   "name": "arxiv-metadata_Analysis (JSON_RDD).ipynb",
   "provenance": []
  },
  "kernelspec": {
   "display_name": "Python 3 (ipykernel)",
   "language": "python",
   "name": "python3"
  },
  "language_info": {
   "codemirror_mode": {
    "name": "ipython",
    "version": 3
   },
   "file_extension": ".py",
   "mimetype": "text/x-python",
   "name": "python",
   "nbconvert_exporter": "python",
   "pygments_lexer": "ipython3",
   "version": "3.10.8"
  }
 },
 "nbformat": 4,
 "nbformat_minor": 1
}
