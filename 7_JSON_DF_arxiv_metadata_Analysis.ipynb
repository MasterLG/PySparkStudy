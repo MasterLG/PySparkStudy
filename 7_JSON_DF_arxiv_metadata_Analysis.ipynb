{
 "cells": [
  {
   "cell_type": "markdown",
   "metadata": {
    "id": "rKV4p61s_KsL"
   },
   "source": [
    "# **Arxiv metadata Analytics with PySpark DF: JSON case study**\n",
    "\n",
    "### Udemy Course: Best Hands-on Big Data Practices and Use Cases using PySpark\n",
    "\n",
    "### Author: Amin Karami (PhD, FHEA)\n",
    "#### email: amin.karami@ymail.com"
   ]
  },
  {
   "cell_type": "code",
   "execution_count": null,
   "metadata": {
    "id": "r6LNmQMY_KsP"
   },
   "outputs": [],
   "source": [
    "########## ONLY in Colab ##########\n",
    "#!pip3 install pyspark\n",
    "########## ONLY in Colab ##########"
   ]
  },
  {
   "cell_type": "code",
   "execution_count": 1,
   "metadata": {
    "id": "SIvN-E9n_KsR"
   },
   "outputs": [],
   "source": [
    "########## ONLY in Ubuntu Machine ##########\n",
    "# Load Spark engine\n",
    "#!pip3 install -q findspark\n",
    "import findspark\n",
    "findspark.init()\n",
    "########## ONLY in Ubuntu Machine ##########"
   ]
  },
  {
   "cell_type": "code",
   "execution_count": 3,
   "metadata": {
    "id": "3YlWY9fC_KsR"
   },
   "outputs": [
    {
     "data": {
      "text/html": [
       "\n",
       "            <div>\n",
       "                <p><b>SparkSession - in-memory</b></p>\n",
       "                \n",
       "        <div>\n",
       "            <p><b>SparkContext</b></p>\n",
       "\n",
       "            <p><a href=\"http://N312320.innova.com.tr:4041\">Spark UI</a></p>\n",
       "\n",
       "            <dl>\n",
       "              <dt>Version</dt>\n",
       "                <dd><code>v3.3.1</code></dd>\n",
       "              <dt>Master</dt>\n",
       "                <dd><code>local[*]</code></dd>\n",
       "              <dt>AppName</dt>\n",
       "                <dd><code>pyspark-shell</code></dd>\n",
       "            </dl>\n",
       "        </div>\n",
       "        \n",
       "            </div>\n",
       "        "
      ],
      "text/plain": [
       "<pyspark.sql.session.SparkSession at 0x17a79bee860>"
      ]
     },
     "execution_count": 3,
     "metadata": {},
     "output_type": "execute_result"
    }
   ],
   "source": [
    "# import SparkSession\n",
    "from pyspark.sql import SparkSession\n",
    "spark = SparkSession.builder.master(\"local[*]\").getOrCreate()\n",
    "spark"
   ]
  },
  {
   "cell_type": "code",
   "execution_count": 4,
   "metadata": {
    "id": "9Z3p3JFE_KsS"
   },
   "outputs": [
    {
     "name": "stdout",
     "output_type": "stream",
     "text": [
      "root\n",
      " |-- abstract: string (nullable = true)\n",
      " |-- authors: string (nullable = true)\n",
      " |-- authors_parsed: array (nullable = true)\n",
      " |    |-- element: array (containsNull = true)\n",
      " |    |    |-- element: string (containsNull = true)\n",
      " |-- categories: string (nullable = true)\n",
      " |-- comments: string (nullable = true)\n",
      " |-- doi: string (nullable = true)\n",
      " |-- id: string (nullable = true)\n",
      " |-- journal-ref: string (nullable = true)\n",
      " |-- license: string (nullable = true)\n",
      " |-- report-no: string (nullable = true)\n",
      " |-- submitter: string (nullable = true)\n",
      " |-- title: string (nullable = true)\n",
      " |-- update_date: string (nullable = true)\n",
      " |-- versions: array (nullable = true)\n",
      " |    |-- element: struct (containsNull = true)\n",
      " |    |    |-- created: string (nullable = true)\n",
      " |    |    |-- version: string (nullable = true)\n",
      "\n",
      "None\n"
     ]
    }
   ],
   "source": [
    "# Read and Load Data to Spark\n",
    "df = spark.read.json(\"json_data/arxiv-metadata-oai-snapshot.json\")\n",
    "print(df.printSchema())"
   ]
  },
  {
   "cell_type": "code",
   "execution_count": 5,
   "metadata": {
    "id": "viS8zgdO_KsT"
   },
   "outputs": [
    {
     "name": "stdout",
     "output_type": "stream",
     "text": [
      "25\n"
     ]
    }
   ],
   "source": [
    "# check the partitions\n",
    "print(df.rdd.getNumPartitions())\n",
    "#you can change num of partitions by repartition method."
   ]
  },
  {
   "cell_type": "markdown",
   "metadata": {
    "id": "m2ivGTrR_KsU"
   },
   "source": [
    "## Question 1: Create a new Schema"
   ]
  },
  {
   "cell_type": "code",
   "execution_count": 6,
   "metadata": {
    "id": "x9AS1Xz__KsU"
   },
   "outputs": [
    {
     "name": "stdout",
     "output_type": "stream",
     "text": [
      "StructType([StructField('authors', StringType(), True), StructField('categories', StringType(), True), StructField('license', StringType(), True), StructField('comments', StringType(), True), StructField('abstract', StringType(), True), StructField('versions', ArrayType(StringType(), True), True)])\n"
     ]
    }
   ],
   "source": [
    "#Define a schema\n",
    "from pyspark.sql.types import *\n",
    "Schema = StructType([\n",
    "    StructField('authors',StringType(),True),\n",
    "    StructField('categories',StringType(),True),\n",
    "    StructField('license',StringType(),True),\n",
    "    StructField('comments',StringType(),True),\n",
    "    StructField('abstract',StringType(),True),\n",
    "    StructField('versions',ArrayType(StringType()),True)\n",
    "])\n",
    "print(Schema)"
   ]
  },
  {
   "cell_type": "markdown",
   "metadata": {
    "id": "0nqC42SY_KsV"
   },
   "source": [
    "## Question 2: Binding Data to a Schema"
   ]
  },
  {
   "cell_type": "code",
   "execution_count": 10,
   "metadata": {
    "id": "4n3RZ0te_KsW"
   },
   "outputs": [
    {
     "name": "stdout",
     "output_type": "stream",
     "text": [
      "+--------------------+-----------------+--------------------+--------------------+--------------------+--------------------+\n",
      "|             authors|       categories|             license|            comments|            abstract|            versions|\n",
      "+--------------------+-----------------+--------------------+--------------------+--------------------+--------------------+\n",
      "|C. Bal\\'azs, E. L...|           hep-ph|                null|37 pages, 15 figu...|  A fully differe...|[{\"version\":\"v1\",...|\n",
      "|Ileana Streinu an...|    math.CO cs.CG|http://arxiv.org/...|To appear in Grap...|  We describe a n...|[{\"version\":\"v1\",...|\n",
      "|         Hongjun Pan|   physics.gen-ph|                null| 23 pages, 3 figures|  The evolution o...|[{\"version\":\"v1\",...|\n",
      "|        David Callan|          math.CO|                null|            11 pages|  We show that a ...|[{\"version\":\"v1\",...|\n",
      "|Wael Abu-Shammala...|  math.CA math.FA|                null|                null|  In this paper w...|[{\"version\":\"v1\",...|\n",
      "|Y. H. Pong and C....|cond-mat.mes-hall|                null|6 pages, 4 figure...|  We study the tw...|[{\"version\":\"v1\",...|\n",
      "|Alejandro Corichi...|            gr-qc|                null|16 pages, no figu...|  A rather non-st...|[{\"version\":\"v1\",...|\n",
      "|     Damian C. Swift|cond-mat.mtrl-sci|http://arxiv.org/...|   Minor corrections|  A general formu...|[{\"version\":\"v1\",...|\n",
      "|Paul Harvey, Brun...|         astro-ph|                null|                null|  We discuss the ...|[{\"version\":\"v1\",...|\n",
      "|  Sergei Ovchinnikov|          math.CO|                null|36 pages, 17 figures|  Partial cubes a...|[{\"version\":\"v1\",...|\n",
      "|Clifton Cunningha...|  math.NT math.AG|http://arxiv.org/...|14 pages; title c...|  In this paper w...|[{\"version\":\"v1\",...|\n",
      "|         Dohoon Choi|          math.NT|                null|                null|  Recently, Bruin...|[{\"version\":\"v1\",...|\n",
      "|Dohoon Choi and Y...|          math.NT|                null|                null|  Serre obtained ...|[{\"version\":\"v1\",...|\n",
      "|        Koichi Fujii|  math.CA math.AT|                null|  18 pages, 1 figure|  In this article...|[{\"version\":\"v1\",...|\n",
      "|     Christian Stahn|           hep-th|                null|22 pages; signs a...|  The pure spinor...|[{\"version\":\"v1\",...|\n",
      "|Chao-Hsi Chang, T...|           hep-ph|                null|17 pages, 3 figur...|  In this work, w...|[{\"version\":\"v1\",...|\n",
      "|Nceba Mhlahlo, Da...|         astro-ph|                null|10 pages, 11 figu...|  Results from sp...|[{\"version\":\"v1\",...|\n",
      "|  Andreas Gustavsson|           hep-th|                null|20 pages, v2: an ...|  We give a presc...|[{\"version\":\"v1\",...|\n",
      "|         Norio Konno|  math.PR math.AG|                null|6 pages, Journal-...|  In this note we...|[{\"version\":\"v1\",...|\n",
      "|The BABAR Collabo...|           hep-ex|                null|21 pages, 13 post...|  The shape of th...|[{\"version\":\"v1\",...|\n",
      "+--------------------+-----------------+--------------------+--------------------+--------------------+--------------------+\n",
      "only showing top 20 rows\n",
      "\n",
      "None\n"
     ]
    }
   ],
   "source": [
    "df = spark.read.json(\"json_data/arxiv-metadata-oai-snapshot.json\", schema = Schema)\n",
    "print(df.show())"
   ]
  },
  {
   "cell_type": "markdown",
   "metadata": {
    "id": "rrizNbnA_KsW"
   },
   "source": [
    "## Question 3: Missing values for \"comments\" and \"license\" attributes"
   ]
  },
  {
   "cell_type": "code",
   "execution_count": 11,
   "metadata": {
    "id": "BElSJl-T_KsX"
   },
   "outputs": [
    {
     "name": "stdout",
     "output_type": "stream",
     "text": [
      "+--------------------+--------------------+--------------------+--------------------+--------------------+--------------------+\n",
      "|             authors|          categories|             license|            comments|            abstract|            versions|\n",
      "+--------------------+--------------------+--------------------+--------------------+--------------------+--------------------+\n",
      "|C. Bal\\'azs, E. L...|              hep-ph|             unknown|37 pages, 15 figu...|  A fully differe...|[{\"version\":\"v1\",...|\n",
      "|Ileana Streinu an...|       math.CO cs.CG|http://arxiv.org/...|To appear in Grap...|  We describe a n...|[{\"version\":\"v1\",...|\n",
      "|         Hongjun Pan|      physics.gen-ph|             unknown| 23 pages, 3 figures|  The evolution o...|[{\"version\":\"v1\",...|\n",
      "|        David Callan|             math.CO|             unknown|            11 pages|  We show that a ...|[{\"version\":\"v1\",...|\n",
      "|Y. H. Pong and C....|   cond-mat.mes-hall|             unknown|6 pages, 4 figure...|  We study the tw...|[{\"version\":\"v1\",...|\n",
      "|Alejandro Corichi...|               gr-qc|             unknown|16 pages, no figu...|  A rather non-st...|[{\"version\":\"v1\",...|\n",
      "|     Damian C. Swift|   cond-mat.mtrl-sci|http://arxiv.org/...|   Minor corrections|  A general formu...|[{\"version\":\"v1\",...|\n",
      "|  Sergei Ovchinnikov|             math.CO|             unknown|36 pages, 17 figures|  Partial cubes a...|[{\"version\":\"v1\",...|\n",
      "|Clifton Cunningha...|     math.NT math.AG|http://arxiv.org/...|14 pages; title c...|  In this paper w...|[{\"version\":\"v1\",...|\n",
      "|        Koichi Fujii|     math.CA math.AT|             unknown|  18 pages, 1 figure|  In this article...|[{\"version\":\"v1\",...|\n",
      "|     Christian Stahn|              hep-th|             unknown|22 pages; signs a...|  The pure spinor...|[{\"version\":\"v1\",...|\n",
      "|Chao-Hsi Chang, T...|              hep-ph|             unknown|17 pages, 3 figur...|  In this work, w...|[{\"version\":\"v1\",...|\n",
      "|Nceba Mhlahlo, Da...|            astro-ph|             unknown|10 pages, 11 figu...|  Results from sp...|[{\"version\":\"v1\",...|\n",
      "|  Andreas Gustavsson|              hep-th|             unknown|20 pages, v2: an ...|  We give a presc...|[{\"version\":\"v1\",...|\n",
      "|         Norio Konno|     math.PR math.AG|             unknown|6 pages, Journal-...|  In this note we...|[{\"version\":\"v1\",...|\n",
      "|The BABAR Collabo...|              hep-ex|             unknown|21 pages, 13 post...|  The shape of th...|[{\"version\":\"v1\",...|\n",
      "|Vanessa Casagrand...|nlin.PS physics.c...|             unknown|  5 pages, 4 figures|  Spatiotemporal ...|[{\"version\":\"v1\",...|\n",
      "|Simon J.A. Malham...|             math.NA|             unknown| 20 pages, 4 figures|  We present Lie ...|[{\"version\":\"v1\",...|\n",
      "|M. A. Loukitcheva...|            astro-ph|             unknown|4 pages, 2 figure...|  The very nature...|[{\"version\":\"v1\",...|\n",
      "|A.A. Serga, M. Ko...|             nlin.PS|             unknown|First appeared in...|  The formation o...|[{\"version\":\"v1\",...|\n",
      "+--------------------+--------------------+--------------------+--------------------+--------------------+--------------------+\n",
      "only showing top 20 rows\n",
      "\n",
      "None\n"
     ]
    }
   ],
   "source": [
    "#drop\n",
    "df = df.dropna(subset=[\"comments\"])\n",
    "#replace\n",
    "df = df.fillna(value=\"unknown\", subset=[\"license\"])\n",
    "print(df.show())"
   ]
  },
  {
   "cell_type": "markdown",
   "metadata": {
    "id": "XiAO1VYb_KsX"
   },
   "source": [
    "## Question 4: Get the author names who published a paper in a 'math' category"
   ]
  },
  {
   "cell_type": "code",
   "execution_count": 13,
   "metadata": {
    "id": "le9Cfbnk_KsY"
   },
   "outputs": [
    {
     "name": "stdout",
     "output_type": "stream",
     "text": [
      "+--------------------+\n",
      "|             authors|\n",
      "+--------------------+\n",
      "|Ileana Streinu an...|\n",
      "|        David Callan|\n",
      "|  Sergei Ovchinnikov|\n",
      "|Clifton Cunningha...|\n",
      "|        Koichi Fujii|\n",
      "|         Norio Konno|\n",
      "|Simon J.A. Malham...|\n",
      "|Robert P. C. de M...|\n",
      "|  P\\'eter E. Frenkel|\n",
      "|          Mihai Popa|\n",
      "|   Debashish Goswami|\n",
      "|      Mikkel {\\O}bro|\n",
      "|Nabil L. Youssef,...|\n",
      "|         Boris Rubin|\n",
      "|         A. I. Molev|\n",
      "| Branko J. Malesevic|\n",
      "|   John W. Robertson|\n",
      "|     Yu.N. Kosovtsov|\n",
      "|        Osamu Fujino|\n",
      "|Stephen C. Power ...|\n",
      "+--------------------+\n",
      "only showing top 20 rows\n",
      "\n",
      "None\n",
      "304590\n"
     ]
    }
   ],
   "source": [
    "#register DF.because we are going to use SparkSql\n",
    "df.createOrReplaceTempView(\"Archive\")\n",
    "sql_query = \"\"\"\n",
    "select authors from archive\n",
    "where categories like 'math%'\n",
    "\"\"\"\n",
    "print(spark.sql(sql_query).show())\n",
    "print(spark.sql(sql_query).count())"
   ]
  },
  {
   "cell_type": "markdown",
   "metadata": {
    "id": "Y5thkuIv_KsY"
   },
   "source": [
    "## Question 5: Get linceses with 5 or more letters in the \"abstract\""
   ]
  },
  {
   "cell_type": "code",
   "execution_count": 17,
   "metadata": {
    "id": "B7LLuIkk_KsZ"
   },
   "outputs": [
    {
     "name": "stdout",
     "output_type": "stream",
     "text": [
      "+--------------------+\n",
      "|             license|\n",
      "+--------------------+\n",
      "|http://arxiv.org/...|\n",
      "|http://creativeco...|\n",
      "|http://creativeco...|\n",
      "|http://creativeco...|\n",
      "|             unknown|\n",
      "+--------------------+\n",
      "\n"
     ]
    }
   ],
   "source": [
    "sql_query = \"\"\"\n",
    "select distinct(license) from Archive\n",
    "where abstract REGEXP '%\\(([A-Za-z][^_ /\\\\<>]{5,})\\)%'\n",
    "\"\"\"\n",
    "print(spark.sql(sql_query).show())"
   ]
  },
  {
   "cell_type": "markdown",
   "metadata": {
    "id": "hjELziqH_KsZ"
   },
   "source": [
    "## Question 6: Extract the statistic of the number of pages for unknown licenses"
   ]
  },
  {
   "cell_type": "code",
   "execution_count": 21,
   "metadata": {
    "id": "B1DYmkI8_KsZ"
   },
   "outputs": [
    {
     "name": "stdout",
     "output_type": "stream",
     "text": [
      "+------------------+---------+------------------+\n",
      "|               avg|      sum|               std|\n",
      "+------------------+---------+------------------+\n",
      "|13.368011068572079|5642584.0|16.777518213632323|\n",
      "+------------------+---------+------------------+\n",
      "\n"
     ]
    }
   ],
   "source": [
    "import re\n",
    "def get_Page(line):\n",
    "    search = re.findall('\\d+ pages' , line)\n",
    "    if search:\n",
    "        return int(search[0].split(\" \")[0])\n",
    "    else:\n",
    "        return 0\n",
    "spark.udf.register(\"PageNumbers\",get_Page)\n",
    "sql_query=\"\"\"\n",
    "select avg(PageNumbers(comments)) as avg,sum(PageNumbers(comments)) as sum,std(PageNumbers(comments)) as std from Archive\n",
    "where license = 'unknown'\n",
    "\"\"\"\n",
    "spark.sql(sql_query).show()"
   ]
  },
  {
   "cell_type": "code",
   "execution_count": null,
   "metadata": {},
   "outputs": [],
   "source": []
  }
 ],
 "metadata": {
  "colab": {
   "collapsed_sections": [],
   "name": "arxiv-metadata_Analysis (JSON_DF).ipynb",
   "provenance": []
  },
  "kernelspec": {
   "display_name": "Python 3 (ipykernel)",
   "language": "python",
   "name": "python3"
  },
  "language_info": {
   "codemirror_mode": {
    "name": "ipython",
    "version": 3
   },
   "file_extension": ".py",
   "mimetype": "text/x-python",
   "name": "python",
   "nbconvert_exporter": "python",
   "pygments_lexer": "ipython3",
   "version": "3.10.8"
  }
 },
 "nbformat": 4,
 "nbformat_minor": 1
}
